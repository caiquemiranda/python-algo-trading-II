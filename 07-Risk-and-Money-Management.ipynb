{
 "cells": [
  {
   "attachments": {},
   "cell_type": "markdown",
   "metadata": {},
   "source": [
    "### Advantages and Disadvantages"
   ]
  },
  {
   "cell_type": "code",
   "execution_count": 1,
   "metadata": {},
   "outputs": [],
   "source": [
    "from __future__ import print_function\n",
    "\n",
    "import datetime\n",
    "import numpy as np\n",
    "import yfinance as yf\n",
    "from scipy.stats import norm"
   ]
  },
  {
   "cell_type": "code",
   "execution_count": 2,
   "metadata": {},
   "outputs": [],
   "source": [
    "def var_cov_var(P, c, mu, sigma):\n",
    "    \"\"\"\n",
    "    Cálculo de Variância-Covariância do Valor em Risco diário\n",
    "    usando nível de confiança c, com média dos retornos mu\n",
    "    e desvio padrão dos retornos sigma, em um portfólio\n",
    "    de valor P.\n",
    "    \"\"\"\n",
    "\n",
    "    alpha = norm.ppf(1-c, mu, sigma)\n",
    "\n",
    "    return P - P*(alpha + 1)"
   ]
  },
  {
   "cell_type": "code",
   "execution_count": 3,
   "metadata": {},
   "outputs": [
    {
     "name": "stdout",
     "output_type": "stream",
     "text": [
      "[*********************100%***********************]  1 of 1 completed\n",
      "Value-at-Risk: $56503.10\n"
     ]
    }
   ],
   "source": [
    "start = datetime.datetime(2010, 1, 1)\n",
    "end = datetime.datetime(2014, 1, 1)\n",
    "citi = yf.download(\"C\", start, end)\n",
    "citi[\"rets\"] = citi[\"Adj Close\"].pct_change()\n",
    "\n",
    "P = 1e6  # 1,000,000 USD\n",
    "c = 0.99  # 99% confidence interval\n",
    "\n",
    "mu = np.mean(citi[\"rets\"])\n",
    "sigma = np.std(citi[\"rets\"])\n",
    "var = var_cov_var(P, c, mu, sigma)\n",
    "\n",
    "print(\"Value-at-Risk: $%0.2f\" % var)"
   ]
  },
  {
   "cell_type": "markdown",
   "metadata": {},
   "source": [
    "O Valor em Risco (VaR) calculado para um portfólio de 1.000.000 (1 milhão de dólares) investido no Citigroup Inc. (ticker \"C\") durante o período de 1 de janeiro de 2010 a 1 de janeiro de 2014, com 99% de confiança, é de $56.503,10. Isso significa que, com 99% de confiança, a perda máxima esperada para esse investimento durante esse período é de $56.503,10. O VaR é uma medida de risco amplamente utilizada em finanças para avaliar a exposição ao risco de mercado."
   ]
  },
  {
   "attachments": {},
   "cell_type": "markdown",
   "metadata": {},
   "source": [
    "### End."
   ]
  }
 ],
 "metadata": {
  "kernelspec": {
   "display_name": "Python 3",
   "language": "python",
   "name": "python3"
  },
  "language_info": {
   "codemirror_mode": {
    "name": "ipython",
    "version": 3
   },
   "file_extension": ".py",
   "mimetype": "text/x-python",
   "name": "python",
   "nbconvert_exporter": "python",
   "pygments_lexer": "ipython3",
   "version": "3.10.5"
  },
  "orig_nbformat": 4,
  "vscode": {
   "interpreter": {
    "hash": "74af3d2f25f1e46ebd2903d59225d79e4675ec224d56c01fc30cd168c2010d53"
   }
  }
 },
 "nbformat": 4,
 "nbformat_minor": 2
}
