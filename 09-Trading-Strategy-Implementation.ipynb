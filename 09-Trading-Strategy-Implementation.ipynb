{
 "cells": [
  {
   "attachments": {},
   "cell_type": "markdown",
   "metadata": {},
   "source": [
    "### Moving Average Crossover Strategy"
   ]
  },
  {
   "cell_type": "code",
   "execution_count": null,
   "metadata": {},
   "outputs": [],
   "source": [
    "#!/usr/bin/python\n",
    "# -*- coding: utf-8 -*-\n",
    "# mac.py\n",
    "\n",
    "from __future__ import print_function\n",
    "\n",
    "import datetime\n",
    "import numpy as np\n",
    "import pandas as pd\n",
    "import statsmodels.api as sm\n",
    "\n",
    "from scripts.strategy import Strategy\n",
    "from scripts.event import SignalEvent\n",
    "from scripts.backtest import Backtest\n",
    "from scripts.data import HistoricCSVDataHandler\n",
    "from scripts.execution import SimulatedExecutionHandler\n",
    "from scripts.portfolio import Portfolio\n",
    "\n",
    "\n",
    "class MovingAverageCrossStrategy(Strategy):\n",
    "        \"\"\"\n",
    "        Carries out a basic Moving Average Crossover strategy with a\n",
    "        short/long simple weighted moving average. Default short/long\n",
    "        windows are 100/400 periods respectively.\n",
    "        \"\"\"\n",
    "        \n",
    "        def __init__(self, bars, events, short_window=100, long_window=400):\n",
    "            \"\"\"\n",
    "            Initialises the Moving Average Cross Strategy.\n",
    "            Parameters:\n",
    "            bars - The DataHandler object that provides bar information\n",
    "            events - The Event Queue object.\n",
    "            short_window - The short moving average lookback.\n",
    "            long_window - The long moving average lookback.\n",
    "            \"\"\"\n",
    "        \n",
    "            self.bars = bars\n",
    "            self.symbol_list = self.bars.symbol_list\n",
    "            self.events = events\n",
    "            self.short_window = short_window\n",
    "            self.long_window = long_window\n",
    "            \n",
    "            # Set to True if a symbol is in the market\n",
    "            self.bought = self._calculate_initial_bought()\n",
    "            \n",
    "            \n",
    "        def _calculate_initial_bought(self):\n",
    "            \"\"\"\n",
    "            Adds keys to the bought dictionary for all symbols\n",
    "            and sets them to ’OUT’.\n",
    "            \"\"\"\n",
    "            \n",
    "            bought = {}\n",
    "            \n",
    "            for s in self.symbol_list:\n",
    "                bought[s] = 'OUT'\n",
    "            \n",
    "            return bought\n",
    "        \n",
    "        \n",
    "        def calculate_signals(self, event):\n",
    "            \"\"\"\n",
    "            Generates a new set of signals based on the MAC\n",
    "            SMA with the short window crossing the long window\n",
    "            meaning a long entry and vice versa for a short entry.\n",
    "            Parameters\n",
    "            event - A MarketEvent object.\n",
    "            \"\"\"\n",
    "            \n",
    "            if event.type == 'MARKET':\n",
    "                for s in self.symbol_list:\n",
    "                    bars = self.bars.get_latest_bars_values(s, \"adj_close\", N=self.long_window)\n",
    "                    bar_date = self.bars.get_latest_bar_datetime(s)\n",
    "                \n",
    "                    if bars is not None and bars != []:\n",
    "                        short_sma = np.mean(bars[-self.short_window:])\n",
    "                        long_sma = np.mean(bars[-self.long_window:])\n",
    "                        \n",
    "                        symbol = s\n",
    "                        dt = datetime.datetime.utcnow()\n",
    "                        sig_dir = \"\"\n",
    "                    \n",
    "                        if short_sma > long_sma and self.bought[s] == \"OUT\":\n",
    "                            print(\"LONG: %s\" % bar_date)\n",
    "                            sig_dir = 'LONG'\n",
    "                            signal = SignalEvent(1, symbol, dt, sig_dir, 1.0)\n",
    "                            self.events.put(signal)\n",
    "                            self.bought[s] = 'LONG'\n",
    "                        \n",
    "                        elif short_sma < long_sma and self.bought[s] == \"LONG\":\n",
    "                            print(\"SHORT: %s\" % bar_date)\n",
    "                            sig_dir = 'EXIT'\n",
    "                            signal = SignalEvent(1, symbol, dt, sig_dir, 1.0)\n",
    "                            self.events.put(signal)\n",
    "                            self.bought[s] = 'OUT'\n",
    "\n",
    "\n",
    "if __name__ == \"__main__\":        \n",
    "    csv_dir = 'stock_data/' # CHANGE THIS!\n",
    "    symbol_list = ['AAPL']\n",
    "    initial_capital = 100000.0\n",
    "    heartbeat = 0.0\n",
    "    start_date = datetime.datetime(1990, 1, 1, 0, 0, 0)\n",
    "    backtest = Backtest(csv_dir, \n",
    "                        symbol_list, \n",
    "                        initial_capital, \n",
    "                        heartbeat,\n",
    "                        start_date,\n",
    "                        HistoricCSVDataHandler,\n",
    "                        SimulatedExecutionHandler,\n",
    "                        Portfolio,\n",
    "                        MovingAverageCrossStrategy)\n",
    "    \n",
    "    backtest.simulate_trading()"
   ]
  },
  {
   "attachments": {},
   "cell_type": "markdown",
   "metadata": {},
   "source": [
    "### S&P500 Forecasting Trade"
   ]
  },
  {
   "cell_type": "code",
   "execution_count": null,
   "metadata": {},
   "outputs": [],
   "source": []
  },
  {
   "cell_type": "code",
   "execution_count": null,
   "metadata": {},
   "outputs": [],
   "source": []
  },
  {
   "cell_type": "code",
   "execution_count": null,
   "metadata": {},
   "outputs": [],
   "source": []
  },
  {
   "cell_type": "code",
   "execution_count": null,
   "metadata": {},
   "outputs": [],
   "source": []
  },
  {
   "cell_type": "code",
   "execution_count": null,
   "metadata": {},
   "outputs": [],
   "source": []
  },
  {
   "cell_type": "code",
   "execution_count": null,
   "metadata": {},
   "outputs": [],
   "source": []
  },
  {
   "cell_type": "code",
   "execution_count": null,
   "metadata": {},
   "outputs": [],
   "source": []
  },
  {
   "attachments": {},
   "cell_type": "markdown",
   "metadata": {},
   "source": [
    "### End."
   ]
  }
 ],
 "metadata": {
  "kernelspec": {
   "display_name": "Python 3",
   "language": "python",
   "name": "python3"
  },
  "language_info": {
   "name": "python",
   "version": "3.10.5"
  },
  "orig_nbformat": 4,
  "vscode": {
   "interpreter": {
    "hash": "74af3d2f25f1e46ebd2903d59225d79e4675ec224d56c01fc30cd168c2010d53"
   }
  }
 },
 "nbformat": 4,
 "nbformat_minor": 2
}
