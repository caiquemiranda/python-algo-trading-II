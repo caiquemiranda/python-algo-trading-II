{
 "cells": [
  {
   "attachments": {},
   "cell_type": "markdown",
   "metadata": {},
   "source": [
    "### Obtaining Data"
   ]
  },
  {
   "attachments": {},
   "cell_type": "markdown",
   "metadata": {},
   "source": [
    "#### Yahoo Finance and Pandas"
   ]
  },
  {
   "cell_type": "code",
   "execution_count": null,
   "metadata": {},
   "outputs": [],
   "source": [
    "from __future__ import print_function\n",
    "import datetime\n",
    "import pandas.io.data as web\n",
    "\n",
    "if __name__ == \"__main__\":\n",
    "    spy = web.DataReader(\"SPY\", \"yahoo\",\n",
    "                         datetime.datetime(2007,1,1),\n",
    "                         datetime.datetime(2015,6,15))\n",
    "print(spy.tail())"
   ]
  },
  {
   "cell_type": "code",
   "execution_count": null,
   "metadata": {},
   "outputs": [],
   "source": [
    "#!/usr/bin/python\n",
    "# -*- coding: utf-8 -*-\n",
    "# quandl_data.py\n",
    "\n",
    "\n",
    "from __future__ import print_function\n",
    "import matplotlib.pyplot as plt\n",
    "import pandas as pd\n",
    "import requests\n",
    "\n",
    "def construct_futures_symbols(symbol, start_year=2010, end_year=2014):\n",
    "    \"\"\"\n",
    "    Constructs a list of futures contract codes\n",
    "    for a particular symbol and timeframe.\n",
    "    \"\"\"\n",
    "    \n",
    "    futures = []\n",
    "    # March, June, September and\n",
    "    # December delivery codes\n",
    "    months = 'HMUZ'\n",
    "    for y in range(start_year, end_year+1):\n",
    "        for m in months:\n",
    "            futures.append(\"%s%s%s\" % (symbol, m, y))\n",
    "            \n",
    "    return futures\n",
    "\n",
    "\n",
    "def download_contract_from_quandl(contract, dl_dir):\n",
    "    \"\"\"\n",
    "    Download an individual futures contract from Quandl and then\n",
    "    store it to disk in the 'dl_dir' directory. An auth_token is\n",
    "    required, which is obtained from the Quandl upon sign-up.\n",
    "    \"\"\"\n",
    "    \n",
    "    # Construct the API call from the contract and auth_token\n",
    "    api_call = \"http://www.quandl.com/api/v1/datasets/\"\n",
    "    api_call += \"OFDP/FUTURE_%s.csv\" % contract\n",
    "    # If you wish to add an auth token for more downloads, simply\n",
    "    # comment the following line and replace MY_AUTH_TOKEN with\n",
    "    # your auth token in the line below\n",
    "    params = \"?sort_order=asc\"\n",
    "    #params = \"?auth_token=MY_AUTH_TOKEN&sort_order=asc\"\n",
    "    full_url = \"%s%s\" % (api_call, params)\n",
    "    \n",
    "    # Download the data from Quandl\n",
    "    data = requests.get(full_url).text\n",
    "    \n",
    "    # Store the data to disk\n",
    "    fc = open('%s/%s.csv' % (dl_dir, contract), 'w')\n",
    "    fc.write(data)\n",
    "    fc.close()\n",
    "\n",
    "\n",
    "def download_historical_contracts(symbol, dl_dir, \n",
    "                                  start_year=2010, \n",
    "                                  end_year=2014):\n",
    "    \"\"\"\n",
    "    Downloads all futures contracts for a specified symbol\n",
    "    between a start_year and an end_year.\n",
    "    \"\"\"\n",
    "\n",
    "    contracts = construct_futures_symbols(symbol, start_year, end_year)\n",
    "\n",
    "    for c in contracts:\n",
    "        print(\"Downloading contract: %s\" % c)\n",
    "        download_contract_from_quandl(c, dl_dir)\n",
    "        \n",
    "if __name__ == \"__main__\":\n",
    "    symbol = 'ES'\n",
    "    \n",
    "    # Make sure you’ve created this\n",
    "    # relative directory beforehand\n",
    "    dl_dir = 'quandl/futures/ES'\n",
    "    \n",
    "    # Create the start and end years\n",
    "    start_year = 2010\n",
    "    end_year = 2014\n",
    "    \n",
    "    # Download the contracts into the directory\n",
    "    download_historical_contracts(symbol, \n",
    "                                  dl_dir, \n",
    "                                  start_year, \n",
    "                                  end_year)\n",
    "    \n",
    "    # Open up a single contract via read_csv\n",
    "    # and plot the settle price\n",
    "    es = pd.io.parsers.read_csv(\"%s/ESH2010.csv\" % dl_dir, index_col=\"Date\")\n",
    "    es[\"Settle\"].plot()\n",
    "    plt.show()"
   ]
  }
 ],
 "metadata": {
  "kernelspec": {
   "display_name": "Python 3",
   "language": "python",
   "name": "python3"
  },
  "language_info": {
   "name": "python",
   "version": "3.10.5"
  },
  "orig_nbformat": 4,
  "vscode": {
   "interpreter": {
    "hash": "74af3d2f25f1e46ebd2903d59225d79e4675ec224d56c01fc30cd168c2010d53"
   }
  }
 },
 "nbformat": 4,
 "nbformat_minor": 2
}
