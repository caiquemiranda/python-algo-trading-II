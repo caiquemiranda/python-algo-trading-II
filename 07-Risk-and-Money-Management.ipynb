{
 "cells": [
  {
   "attachments": {},
   "cell_type": "markdown",
   "metadata": {},
   "source": [
    "### Advantages and Disadvantages"
   ]
  },
  {
   "cell_type": "code",
   "execution_count": null,
   "metadata": {},
   "outputs": [],
   "source": [
    "#!/usr/bin/python\n",
    "# -*- coding: utf-8 -*-\n",
    "# var.py\n",
    "\n",
    "from __future__ import print_function\n",
    "\n",
    "import datetime\n",
    "import numpy as np\n",
    "import pandas.io.data as web\n",
    "from scipy.stats import norm\n",
    "\n",
    "\n",
    "def var_cov_var(P, c, mu, sigma):\n",
    "    \"\"\"\n",
    "    Variance-Covariance calculation of daily Value-at-Risk\n",
    "    using confidence level c, with mean of returns mu\n",
    "    and standard deviation of returns sigma, on a portfolio\n",
    "    of value P.\n",
    "    \"\"\"\n",
    "\n",
    "    alpha = norm.ppf(1-c, mu, sigma)\n",
    "\n",
    "    return P - P*(alpha + 1)\n",
    "\n",
    "\n",
    "if __name__ == \"__main__\":\n",
    "\n",
    "    start = datetime.datetime(2010, 1, 1)\n",
    "    end = datetime.datetime(2014, 1, 1)\n",
    "    citi = web.DataReader(\"C\", 'yahoo', start, end)\n",
    "    citi[\"rets\"] = citi[\"Adj Close\"].pct_change()\n",
    "\n",
    "    P = 1e6 # 1,000,000 USD\n",
    "    c = 0.99 # 99% confidence interval\n",
    "    \n",
    "    mu = np.mean(citi[\"rets\"])\n",
    "    sigma = np.std(citi[\"rets\"])\n",
    "    var = var_cov_var(P, c, mu, sigma)\n",
    "\n",
    "    print(\"Value-at-Risk: $%0.2f\" % var)"
   ]
  },
  {
   "attachments": {},
   "cell_type": "markdown",
   "metadata": {},
   "source": [
    "### End."
   ]
  }
 ],
 "metadata": {
  "kernelspec": {
   "display_name": "Python 3",
   "language": "python",
   "name": "python3"
  },
  "language_info": {
   "name": "python",
   "version": "3.10.5"
  },
  "orig_nbformat": 4,
  "vscode": {
   "interpreter": {
    "hash": "74af3d2f25f1e46ebd2903d59225d79e4675ec224d56c01fc30cd168c2010d53"
   }
  }
 },
 "nbformat": 4,
 "nbformat_minor": 2
}
