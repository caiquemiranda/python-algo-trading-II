{
 "cells": [
  {
   "attachments": {},
   "cell_type": "markdown",
   "metadata": {},
   "source": [
    "#### Python Implementations"
   ]
  },
  {
   "cell_type": "code",
   "execution_count": 23,
   "metadata": {},
   "outputs": [],
   "source": [
    "from __future__ import print_function\n",
    "import warnings\n",
    "warnings.filterwarnings('ignore')\n",
    "\n",
    "import datetime\n",
    "import numpy as np\n",
    "import pandas as pd\n",
    "import sklearn\n",
    "import yfinance as yf\n",
    "\n",
    "from sklearn.ensemble import RandomForestClassifier\n",
    "from sklearn.linear_model import LogisticRegression\n",
    "from sklearn.discriminant_analysis import LinearDiscriminantAnalysis\n",
    "from sklearn.metrics import confusion_matrix\n",
    "from sklearn.discriminant_analysis import QuadraticDiscriminantAnalysis\n",
    "from sklearn.svm import LinearSVC, SVC"
   ]
  },
  {
   "cell_type": "code",
   "execution_count": 16,
   "metadata": {},
   "outputs": [],
   "source": [
    "def create_lagged_series(symbol, start_date, end_date, lags=5):\n",
    "    \"\"\"\n",
    "    Este DataFrame é projetado para armazenar os retornos percentuais \n",
    "    do valor de fechamento ajustado de uma ação obtida do Yahoo Finance, \n",
    "    juntamente com uma série de retornos atrasados dos dias de negociação \n",
    "    anteriores (o padrão é 5 dias). Além disso, o volume de negociação, \n",
    "    bem como a direção do dia anterior, também estão incluídos no DataFrame.\n",
    "    \"\"\"\n",
    "\n",
    "    # Obtain stock information from Yahoo Finance\n",
    "    ts = yf.download(symbol,\n",
    "                    start_date-datetime.timedelta(days=365),\n",
    "                    end_date)\n",
    "\n",
    "    # Create the new lagged DataFrame\n",
    "    tslag = pd.DataFrame(index=ts.index)\n",
    "    tslag[\"Today\"] = ts[\"Adj Close\"]\n",
    "    tslag[\"Volume\"] = ts[\"Volume\"]\n",
    "\n",
    "    # Create the shifted lag series of prior trading period close values\n",
    "    for i in range(0, lags):\n",
    "        tslag[\"Lag%s\" % str(i+1)] = ts[\"Adj Close\"].shift(i+1)\n",
    "\n",
    "    # Create the returns DataFrame\n",
    "    tsret = pd.DataFrame(index=tslag.index)\n",
    "    tsret[\"Volume\"] = tslag[\"Volume\"]\n",
    "    tsret[\"Today\"] = tslag[\"Today\"].pct_change()*100.0\n",
    "\n",
    "    # If any of the values of percentage returns equal zero, set them to\n",
    "    # a small number (stops issues with QDA model in Scikit-Learn)\n",
    "    for i, x in enumerate(tsret[\"Today\"]):\n",
    "        if (abs(x) < 0.0001):\n",
    "            tsret[\"Today\"][i] = 0.0001\n",
    "\n",
    "    # Create the lagged percentage returns columns\n",
    "    for i in range(0, lags):\n",
    "        tsret[\"Lag%s\" % str(i+1)] = \\\n",
    "            tslag[\"Lag%s\" % str(i+1)].pct_change()*100.0\n",
    "\n",
    "    # Create the \"Direction\" column (+1 or -1) indicating an up/down day\n",
    "    tsret[\"Direction\"] = np.sign(tsret[\"Today\"])\n",
    "    tsret = tsret[tsret.index >= start_date]\n",
    "\n",
    "    return tsret"
   ]
  },
  {
   "cell_type": "code",
   "execution_count": 17,
   "metadata": {},
   "outputs": [
    {
     "name": "stdout",
     "output_type": "stream",
     "text": [
      "[*********************100%***********************]  1 of 1 completed\n"
     ]
    },
    {
     "name": "stderr",
     "output_type": "stream",
     "text": [
      "C:\\Users\\Caíque Miranda\\AppData\\Local\\Temp\\ipykernel_4040\\2592541236.py:33: SettingWithCopyWarning: \n",
      "A value is trying to be set on a copy of a slice from a DataFrame\n",
      "\n",
      "See the caveats in the documentation: https://pandas.pydata.org/pandas-docs/stable/user_guide/indexing.html#returning-a-view-versus-a-copy\n",
      "  tsret[\"Today\"][i] = 0.0001\n"
     ]
    }
   ],
   "source": [
    "# Create a lagged series of the S&P500 US stock market index\n",
    "snpret = create_lagged_series(\"^GSPC\", \n",
    "                                datetime.datetime(2010,1,10),\n",
    "                                datetime.datetime(2020,12,31), \n",
    "                                lags=5)"
   ]
  },
  {
   "cell_type": "code",
   "execution_count": 18,
   "metadata": {},
   "outputs": [],
   "source": [
    "# Use the prior two days of returns as predictor\n",
    "# values, with direction as the response\n",
    "X = snpret[[\"Lag1\", \"Lag2\"]]\n",
    "y = snpret[\"Direction\"]"
   ]
  },
  {
   "cell_type": "code",
   "execution_count": 19,
   "metadata": {},
   "outputs": [],
   "source": [
    "# The test data is split into two parts: Before and after 1st Jan 2005.\n",
    "start_test = datetime.datetime(2020, 1, 1)"
   ]
  },
  {
   "cell_type": "code",
   "execution_count": 20,
   "metadata": {},
   "outputs": [],
   "source": [
    "# Create training and test sets\n",
    "X_train = X[X.index < start_test]\n",
    "X_test = X[X.index >= start_test]\n",
    "y_train = y[y.index < start_test]\n",
    "y_test = y[y.index >= start_test]"
   ]
  },
  {
   "cell_type": "code",
   "execution_count": 24,
   "metadata": {},
   "outputs": [
    {
     "name": "stdout",
     "output_type": "stream",
     "text": [
      "Hit Rates/Confusion Matrices:\n",
      "\n"
     ]
    }
   ],
   "source": [
    "# Create the (parametrised) models\n",
    "print(\"Hit Rates/Confusion Matrices:\\n\")\n",
    "models = [(\"LR\", LogisticRegression()),\n",
    "          (\"LDA\", LinearDiscriminantAnalysis()),\n",
    "          (\"QDA\", QuadraticDiscriminantAnalysis()),\n",
    "          (\"LSVC\", LinearSVC()),\n",
    "          (\"RSVM\", SVC(C=1000000.0,\n",
    "                       cache_size=200,\n",
    "                       class_weight=None,\n",
    "                       coef0=0.0,\n",
    "                       degree=3,\n",
    "                       gamma=0.0001,\n",
    "                       kernel='rbf',\n",
    "                       max_iter=-1,\n",
    "                       probability=False,\n",
    "                       random_state=None,\n",
    "                       shrinking=True,\n",
    "                       tol=0.001,\n",
    "                       verbose=False)),\n",
    "\n",
    "          (\"RF\", RandomForestClassifier(n_estimators=1000,\n",
    "                                        criterion='gini',\n",
    "                                        max_depth=None,\n",
    "                                        min_samples_split=2,\n",
    "                                        min_samples_leaf=1, max_features='auto',\n",
    "                                        bootstrap=True,\n",
    "                                        oob_score=False,\n",
    "                                        n_jobs=1,\n",
    "                                        random_state=None,\n",
    "                                        verbose=0))]"
   ]
  },
  {
   "cell_type": "code",
   "execution_count": 25,
   "metadata": {},
   "outputs": [
    {
     "name": "stdout",
     "output_type": "stream",
     "text": [
      "LR:\n",
      "0.611\n",
      "[[ 13   3]\n",
      " [ 95 141]]\n",
      "\n",
      "LDA:\n",
      "0.611\n",
      "[[ 13   3]\n",
      " [ 95 141]]\n",
      "\n",
      "QDA:\n",
      "0.595\n",
      "[[  8   2]\n",
      " [100 142]]\n",
      "\n",
      "LSVC:\n",
      "0.611\n",
      "[[ 13   3]\n",
      " [ 95 141]]\n",
      "\n",
      "RSVM:\n",
      "0.591\n",
      "[[  6   1]\n",
      " [102 143]]\n",
      "\n",
      "RF:\n",
      "0.544\n",
      "[[49 56]\n",
      " [59 88]]\n",
      "\n"
     ]
    }
   ],
   "source": [
    "# Iterate through the models\n",
    "for m in models:\n",
    "    # Train each of the models on the training set\n",
    "    m[1].fit(X_train, y_train)\n",
    "\n",
    "    # Make an array of predictions on the test set\n",
    "    pred = m[1].predict(X_test)\n",
    "\n",
    "    # Output the hit-rate and the confusion matrix for each model\n",
    "    print(\"%s:\\n%0.3f\" % (m[0], m[1].score(X_test, y_test)))\n",
    "    print(\"%s\\n\" % confusion_matrix(pred, y_test))"
   ]
  },
  {
   "cell_type": "markdown",
   "metadata": {},
   "source": [
    "### END."
   ]
  }
 ],
 "metadata": {
  "kernelspec": {
   "display_name": "Python 3",
   "language": "python",
   "name": "python3"
  },
  "language_info": {
   "codemirror_mode": {
    "name": "ipython",
    "version": 3
   },
   "file_extension": ".py",
   "mimetype": "text/x-python",
   "name": "python",
   "nbconvert_exporter": "python",
   "pygments_lexer": "ipython3",
   "version": "3.10.5"
  },
  "orig_nbformat": 4,
  "vscode": {
   "interpreter": {
    "hash": "74af3d2f25f1e46ebd2903d59225d79e4675ec224d56c01fc30cd168c2010d53"
   }
  }
 },
 "nbformat": 4,
 "nbformat_minor": 2
}
