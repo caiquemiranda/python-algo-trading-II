{
 "cells": [
  {
   "attachments": {},
   "cell_type": "markdown",
   "metadata": {},
   "source": [
    "### Financial Datasets"
   ]
  },
  {
   "attachments": {},
   "cell_type": "markdown",
   "metadata": {},
   "source": [
    "- Yahoo Finance - http://finance.yahoo.com\n",
    "- Google Finance - https://www.google.com/finance\n",
    "- QuantQuote - https://www.quantquote.com (S&P500 EOD data only)\n",
    "- EODData - http://eoddata.com (requires registration)"
   ]
  },
  {
   "attachments": {},
   "cell_type": "markdown",
   "metadata": {},
   "source": [
    "### Historical Data Structure"
   ]
  },
  {
   "attachments": {},
   "cell_type": "markdown",
   "metadata": {},
   "source": [
    "- Exchanges - What is the ultimate original source of the data?\n",
    "- Vendor - Where is a particular data point obtained from?\n",
    "- Instrument/Ticker - The ticker/symbol for the equity or index, along with corporate information of the underlying firm or fund.\n",
    "- Price - The actual price for a particular security on a particular day.\n",
    "- Corporate Actions - The list of all stock splits or dividend adjustments (this may lead to one or more tables), necessary for adjusting the pricing data.\n",
    "- National Holidays - To avoid mis-classifying trading holidays as missing data errors, it can be useful to store national holidays and cross-reference."
   ]
  },
  {
   "attachments": {},
   "cell_type": "markdown",
   "metadata": {},
   "source": [
    "### MySQL for Securities Masters"
   ]
  },
  {
   "attachments": {},
   "cell_type": "markdown",
   "metadata": {},
   "source": [
    "#### Installing MySQL"
   ]
  },
  {
   "attachments": {},
   "cell_type": "markdown",
   "metadata": {},
   "source": [
    "sudo apt-get install mysql-server"
   ]
  },
  {
   "attachments": {},
   "cell_type": "markdown",
   "metadata": {},
   "source": [
    "#### Configuring MySQL"
   ]
  },
  {
   "attachments": {},
   "cell_type": "markdown",
   "metadata": {},
   "source": [
    "mysql -u root -p\n",
    "mysql> CREATE DATABASE securities_master;\n",
    "mysql> USE securities_master;"
   ]
  },
  {
   "attachments": {},
   "cell_type": "markdown",
   "metadata": {},
   "source": [
    "mysql> CREATE USER ’sec_user’@’localhost’ IDENTIFIED BY ’password’;\n",
    "mysql> GRANT ALL PRIVILEGES ON securities_master.* TO ’sec_user’@’localhost’;\n",
    "mysql> FLUSH PRIVILEGES;"
   ]
  },
  {
   "attachments": {},
   "cell_type": "markdown",
   "metadata": {},
   "source": [
    "#### Schema Design for EOD Equities"
   ]
  },
  {
   "cell_type": "code",
   "execution_count": 6,
   "metadata": {},
   "outputs": [
    {
     "name": "stdout",
     "output_type": "stream",
     "text": [
      "The sql extension is already loaded. To reload it, use:\n",
      "  %reload_ext sql\n"
     ]
    }
   ],
   "source": [
    "# Manipulação de banco de dados\n",
    "import sqlite3                                 \n",
    "\n",
    "# conexão\n",
    "cnn = sqlite3.connect('database/dbproject.db') \n",
    "\n",
    "# Carregamos a extensão SQL para uso de comandos SQL direto no notebook\n",
    "%load_ext sql\n",
    "\n",
    "# Definimos o banco de dados caminho\n",
    "%sql sqlite:///database/dbproject.db"
   ]
  },
  {
   "cell_type": "code",
   "execution_count": 17,
   "metadata": {},
   "outputs": [
    {
     "name": "stdout",
     "output_type": "stream",
     "text": [
      " * sqlite:///database/dbproject.db\n",
      "(sqlite3.OperationalError) near \"AUTO_INCREMENT\": syntax error\n",
      "[SQL: CREATE TABLE  exchange ( idd  int NOT NULL AUTO_INCREMENT,\n",
      "                        abbrev varchar(32) NOT NULL,\n",
      "                        name varchar(255) NOT NULL,\n",
      "                        city varchar(255) NULL,\n",
      "                        country varchar(255) NULL,\n",
      "                        currency varchar(64) NULL,\n",
      "                        timezone_offset time NULL,\n",
      "                        created_date datetime NOT NULL,\n",
      "                        last_updated_date datetime NOT NULL,\n",
      "  PRIMARY KEY ( idd )\n",
      ")]\n",
      "(Background on this error at: https://sqlalche.me/e/14/e3q8)\n"
     ]
    }
   ],
   "source": [
    "%%sql\n",
    "CREATE TABLE  exchange (id  int NOT NULL AUTO_INCREMENT,\n",
    "                        abbrev varchar(32) NOT NULL,\n",
    "                        name varchar(255) NOT NULL,\n",
    "                        city varchar(255) NULL,\n",
    "                        country varchar(255) NULL,\n",
    "                        currency varchar(64) NULL,\n",
    "                        timezone_offset time NULL,\n",
    "                        created_date datetime NOT NULL,\n",
    "                        last_updated_date datetime NOT NULL,\n",
    "  PRIMARY KEY ( id )\n",
    ")\n",
    "ENGINE=InnoDB AUTO_INCREMENT=1 DEFAULT CHARSET=utf8;"
   ]
  },
  {
   "cell_type": "code",
   "execution_count": null,
   "metadata": {},
   "outputs": [],
   "source": [
    "%%sql\n",
    "CREATE TABLE data_vendor (id int NOT NULL AUTO_INCREMENT,\n",
    "                          name varchar(64) NOT NULL,\n",
    "                          website_url varchar(255) NULL,\n",
    "                          support_email varchar(255) NULL,\n",
    "                          created_date datetime NOT NULL,\n",
    "                          last_updated_date datetime NOT NULL,\n",
    "    PRIMARY KEY ( id )\n",
    ")\n",
    "ENGINE=InnoDB AUTO_INCREMENT=1 DEFAULT CHARSET=utf8;"
   ]
  },
  {
   "cell_type": "code",
   "execution_count": null,
   "metadata": {},
   "outputs": [],
   "source": [
    "%%sql\n",
    "CREATE TABLE symbol (id int NOT NULL AUTO_INCREMENT,\n",
    "                     exchange_id int NULL,\n",
    "                     ticker varchar(32) NOT NULL,\n",
    "                     instrument varchar(64) NOT NULL,\n",
    "                     name varchar(255) NULL,\n",
    "                     sector varchar(255) NULL,\n",
    "                     currency varchar(32) NULL,\n",
    "                     created_date datetime NOT NULL,\n",
    "                     last_updated_date‘ datetime NOT NULL,\n",
    "    PRIMARY KEY ( id ),\n",
    "    KEY index_exchange_id ( exchange_id )\n",
    ") \n",
    "ENGINE=InnoDB AUTO_INCREMENT=1 DEFAULT CHARSET=utf8;\n"
   ]
  },
  {
   "cell_type": "code",
   "execution_count": null,
   "metadata": {},
   "outputs": [],
   "source": [
    "%%sql\n",
    "CREATE TABLE daily_price (id int NOT NULL AUTO_INCREMENT,\n",
    "                          data_vendor_id int NOT NULL,\n",
    "                          symbol_id int NOT NULL,\n",
    "                          price_date datetime NOT NULL,\n",
    "                          created_date datetime NOT NULL,\n",
    "                          last_updated_date datetime NOT NULL,\n",
    "                          open_price decimal(19,4) NULL,\n",
    "                          high_price decimal(19,4) NULL,\n",
    "                          low_price decimal(19,4) NULL,\n",
    "                          close_price decimal(19,4) NULL,\n",
    "                          adj_close_price decimal(19,4) NULL,\n",
    "                          volume bigint NULL,\n",
    "    PRIMARY KEY ( id ),\n",
    "    KEY index_data_vendor_id ( data_vendor_id ),\n",
    "    KEY index_symbol_id ( symbol_id )\n",
    ") \n",
    "ENGINE=InnoDB AUTO_INCREMENT=1 DEFAULT CHARSET=utf8;"
   ]
  },
  {
   "attachments": {},
   "cell_type": "markdown",
   "metadata": {},
   "source": [
    "#### Connecting to the Database"
   ]
  },
  {
   "attachments": {},
   "cell_type": "markdown",
   "metadata": {},
   "source": [
    "! sudo apt-get install libmysqlclient-dev\n",
    "! pip install mysqlclient"
   ]
  },
  {
   "attachments": {},
   "cell_type": "markdown",
   "metadata": {},
   "source": [
    "#### Using an Object-Relational Mapper"
   ]
  },
  {
   "attachments": {},
   "cell_type": "markdown",
   "metadata": {},
   "source": [
    "pip install requests\n",
    "pip install beautifulsoup4"
   ]
  },
  {
   "cell_type": "code",
   "execution_count": null,
   "metadata": {},
   "outputs": [],
   "source": [
    "#!/usr/bin/python\n",
    "# -*- coding: utf-8 -*-\n",
    "# insert_symbols.py\n",
    "\n",
    "\n",
    "from __future__ import print_function\n",
    "import datetime\n",
    "from math import ceil\n",
    "\n",
    "import bs4\n",
    "import MySQLdb as mdb\n",
    "import requests\n",
    "\n",
    "def obtain_parse_wiki_snp500():\n",
    "    \"\"\"\n",
    "    Download and parse the Wikipedia list of S&P500\n",
    "    constituents using requests and BeautifulSoup.\n",
    "    Returns a list of tuples for to add to MySQL.\n",
    "    \"\"\"\n",
    "\n",
    "    # Stores the current time, for the created_at record\n",
    "    now = datetime.datetime.utcnow()\n",
    "\n",
    "    # Use requests and BeautifulSoup to download the\n",
    "    # list of S&P500 companies and obtain the symbol table\n",
    "    response = requests.get(\"http://en.wikipedia.org/wiki/List_of_S%26P_500_companies\")\n",
    "    soup = bs4.BeautifulSoup(response.text)\n",
    "    \n",
    "    # This selects the first table, using CSS Selector syntax\n",
    "    # and then ignores the header row ([1:])\n",
    "    symbolslist = soup.select('table')[0].select('tr')[1:]\n",
    "\n",
    "    # Obtain the symbol information for each\n",
    "    # row in the S&P500 constituent table\n",
    "    symbols = []\n",
    "    for i, symbol in enumerate(symbolslist):\n",
    "        tds = symbol.select('td')\n",
    "        symbols.append((tds[0].select('a')[0].text, # Ticker\n",
    "                        'stocks',\n",
    "                        tds[1].select('a')[0].text, # Name\n",
    "                        tds[3].text, # Sector\n",
    "                        'USD', now, now))\n",
    "    \n",
    "    return symbols\n",
    "\n",
    "def insert_snp500_symbols(symbols):\n",
    "    \"\"\"\n",
    "    Insert the S&P500 symbols into the MySQL database.\n",
    "    \"\"\"\n",
    "    # Connect to the MySQL instance\n",
    "    db_host = 'localhost'\n",
    "    db_user = 'sec_user'\n",
    "    db_pass = 'password'\n",
    "    db_name = 'securities_master'\n",
    "    \n",
    "    con = mdb.connect(host=db_host, \n",
    "                      user=db_user, \n",
    "                      passwd=db_pass, \n",
    "                      db=db_name)\n",
    "    \n",
    "    # Create the insert strings\n",
    "    column_str = \"\"\"ticker, instrument, name, sector,\n",
    "                    currency, created_date, last_updated_date\n",
    "                    \"\"\"\n",
    "    \n",
    "    insert_str = (\"%s, \" * 7)[:-2]\n",
    "    final_str = \"INSERT INTO symbol (%s) VALUES (%s)\" % \\\n",
    "    (column_str, insert_str)\n",
    "    # Using the MySQL connection, carry out\n",
    "    # an INSERT INTO for every symbol\n",
    "    with con:\n",
    "        cur = con.cursor()\n",
    "        cur.executemany(final_str, symbols)\n",
    "\n",
    "if __name__ == \"__main__\":\n",
    "    symbols = obtain_parse_wiki_snp500()\n",
    "    insert_snp500_symbols(symbols)\n",
    "    print(\"%s symbols were successfully added.\" % len(symbols))\n",
    "    \n"
   ]
  },
  {
   "cell_type": "code",
   "execution_count": null,
   "metadata": {},
   "outputs": [],
   "source": [
    "#!/usr/bin/python\n",
    "# -*- coding: utf-8 -*-\n",
    "# price_retrieval.py\n",
    "from __future__ import print_function\n",
    "import datetime\n",
    "import warnings\n",
    "import MySQLdb as mdb\n",
    "import requests\n",
    "# Obtain a database connection to the MySQL instance\n",
    "db_host = ’localhost’\n",
    "db_user = ’sec_user’\n",
    "db_pass = ’password’\n",
    "db_name = ’securities_master’\n",
    "con = mdb.connect(db_host, db_user, db_pass, db_name)\n",
    "def obtain_list_of_db_tickers():\n",
    "\"\"\"\n",
    "Obtains a list of the ticker symbols in the database.\n",
    "\"\"\"\n",
    "with con:\n",
    "cur = con.cursor()\n",
    "cur.execute(\"SELECT id, ticker FROM symbol\")\n",
    "data = cur.fetchall()\n",
    "return [(d[0], d[1]) for d in data]\n",
    "def get_daily_historic_data_yahoo(\n",
    "ticker, start_date=(2000,1,1),\n",
    "end_date=datetime.date.today().timetuple()[0:3]\n",
    "):\n",
    "\"\"\"\n",
    "Obtains data from Yahoo Finance returns and a list of tuples.\n",
    "ticker: Yahoo Finance ticker symbol, e.g. \"GOOG\" for Google, Inc.\n",
    "start_date: Start date in (YYYY, M, D) format\n",
    "end_date: End date in (YYYY, M, D) format\n",
    "\"\"\"\n",
    "# Construct the Yahoo URL with the correct integer query parameters\n",
    "# for start and end dates. Note that some parameters are zero-based!\n",
    "ticker_tup = (\n",
    "ticker, start_date[1]-1, start_date[2],\n",
    "start_date[0], end_date[1]-1, end_date[2],\n",
    "end_date[0]\n",
    ")\n",
    "yahoo_url = \"http://ichart.finance.yahoo.com/table.csv\"\n",
    "yahoo_url += \"?s=%s&a=%s&b=%s&c=%s&d=%s&e=%s&f=%s\"\n",
    "yahoo_url = yahoo_url % ticker_tup\n",
    "# Try connecting to Yahoo Finance and obtaining the data\n",
    "# On failure, print an error message.\n",
    "try:\n",
    "yf_data = requests.get(yahoo_url).text.split(\"\\n\")[1:-1]\n",
    "prices = []\n",
    "for y in yf_data:\n",
    "p = y.strip().split(’,’)\n",
    "prices.append(\n",
    "(datetime.datetime.strptime(p[0], ’%Y-%m-%d’),\n",
    "p[1], p[2], p[3], p[4], p[5], p[6])\n",
    ")\n",
    "except Exception as e:\n",
    "print(\"Could not download Yahoo data: %s\" % e)\n",
    "return prices\n",
    "def insert_daily_data_into_db(\n",
    "data_vendor_id, symbol_id, daily_data\n",
    "):\n",
    "\"\"\"\n",
    "Takes a list of tuples of daily data and adds it to the\n",
    "MySQL database. Appends the vendor ID and symbol ID to the data.\n",
    "daily_data: List of tuples of the OHLC data (with\n",
    "adj_close and volume)\n",
    "\"\"\"\n",
    "# Create the time now\n",
    "now = datetime.datetime.utcnow()\n",
    "# Amend the data to include the vendor ID and symbol ID\n",
    "daily_data = [\n",
    "(data_vendor_id, symbol_id, d[0], now, now,\n",
    "d[1], d[2], d[3], d[4], d[5], d[6])\n",
    "for d in daily_data\n",
    "]\n",
    "# Create the insert strings\n",
    "column_str = \"\"\"data_vendor_id, symbol_id, price_date, created_date,\n",
    "last_updated_date, open_price, high_price, low_price,\n",
    "close_price, volume, adj_close_price\"\"\"\n",
    "insert_str = (\"%s, \" * 11)[:-2]\n",
    "final_str = \"INSERT INTO daily_price (%s) VALUES (%s)\" % \\\n",
    "(column_str, insert_str)\n",
    "# Using the MySQL connection, carry out an INSERT INTO for every symbol\n",
    "with con:\n",
    "cur = con.cursor()\n",
    "cur.executemany(final_str, daily_data)\n",
    "if __name__ == \"__main__\":\n",
    "# This ignores the warnings regarding Data Truncation\n",
    "# from the Yahoo precision to Decimal(19,4) datatypes\n",
    "warnings.filterwarnings(’ignore’)\n",
    "# Loop over the tickers and insert the daily historical\n",
    "# data into the database\n",
    "tickers = obtain_list_of_db_tickers()\n",
    "lentickers = len(tickers)\n",
    "for i, t in enumerate(tickers):\n",
    "print(\"Adding data for %s: %s out of %s\" %\n",
    "(t[1], i+1, lentickers)\n",
    ")\n",
    "yf_data = get_daily_historic_data_yahoo(t[1])\n",
    "insert_daily_data_into_db(’1’, t[0], yf_data)\n",
    "print(\"Successfully added Yahoo Finance pricing data to DB.\")"
   ]
  },
  {
   "cell_type": "code",
   "execution_count": null,
   "metadata": {},
   "outputs": [],
   "source": []
  },
  {
   "cell_type": "code",
   "execution_count": null,
   "metadata": {},
   "outputs": [],
   "source": []
  },
  {
   "cell_type": "code",
   "execution_count": null,
   "metadata": {},
   "outputs": [],
   "source": []
  },
  {
   "cell_type": "code",
   "execution_count": null,
   "metadata": {},
   "outputs": [],
   "source": []
  },
  {
   "cell_type": "code",
   "execution_count": null,
   "metadata": {},
   "outputs": [],
   "source": []
  },
  {
   "cell_type": "code",
   "execution_count": null,
   "metadata": {},
   "outputs": [],
   "source": []
  },
  {
   "cell_type": "code",
   "execution_count": null,
   "metadata": {},
   "outputs": [],
   "source": []
  }
 ],
 "metadata": {
  "kernelspec": {
   "display_name": "Python 3",
   "language": "python",
   "name": "python3"
  },
  "language_info": {
   "codemirror_mode": {
    "name": "ipython",
    "version": 3
   },
   "file_extension": ".py",
   "mimetype": "text/x-python",
   "name": "python",
   "nbconvert_exporter": "python",
   "pygments_lexer": "ipython3",
   "version": "3.10.5"
  },
  "orig_nbformat": 4,
  "vscode": {
   "interpreter": {
    "hash": "74af3d2f25f1e46ebd2903d59225d79e4675ec224d56c01fc30cd168c2010d53"
   }
  }
 },
 "nbformat": 4,
 "nbformat_minor": 2
}
