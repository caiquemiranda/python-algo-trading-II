{
 "cells": [
  {
   "attachments": {},
   "cell_type": "markdown",
   "metadata": {},
   "source": [
    "#### Risk/Reward Analysis"
   ]
  },
  {
   "cell_type": "code",
   "execution_count": null,
   "metadata": {},
   "outputs": [],
   "source": [
    "#!/usr/bin/python\n",
    "# -*- coding: utf-8 -*-\n",
    "# sharpe.py\n",
    "\n",
    "from __future__ import print_function\n",
    "\n",
    "import datetime\n",
    "import numpy as np\n",
    "import pandas as pd\n",
    "import pandas.io.data as web\n",
    "\n",
    "\n",
    "def annualised_sharpe(returns, N=252):\n",
    "    \"\"\"\n",
    "    Calculate the annualised Sharpe ratio of a returns stream\n",
    "    based on a number of trading periods, N. N defaults to 252,\n",
    "    which then assumes a stream of daily returns.\n",
    "    The function assumes that the returns are the excess of\n",
    "    those compared to a benchmark.\n",
    "    \"\"\"\n",
    "    return np.sqrt(N) * returns.mean() / returns.std()\n",
    "\n",
    "\n",
    "def equity_sharpe(ticker):\n",
    "    \"\"\"\n",
    "    Calculates the annualised Sharpe ratio based on the daily\n",
    "    returns of an equity ticker symbol listed in Google Finance.\n",
    "    The dates have been hardcoded here for brevity.\n",
    "    \"\"\"\n",
    "    \n",
    "    start = datetime.datetime(2000,1,1)\n",
    "    end = datetime.datetime(2013,1,1)\n",
    "    \n",
    "    # Obtain the equities daily historic data for the desired time period\n",
    "    # and add to a pandas DataFrame\n",
    "    pdf = web.DataReader(ticker, 'google', start, end)\n",
    "    \n",
    "    # Use the percentage change method to easily calculate daily returns\n",
    "    pdf['daily_ret'] = pdf['Close'].pct_change()\n",
    "    \n",
    "    # Assume an average annual risk-free rate over the period of 5%\n",
    "    pdf['excess_daily_ret'] = pdf['daily_ret'] - 0.05/252\n",
    "    \n",
    "    # Return the annualised Sharpe ratio based on the excess daily returns\n",
    "    return annualised_sharpe(pdf['excess_daily_ret'])\n",
    "\n",
    "\n",
    "def market_neutral_sharpe(ticker, benchmark):\n",
    "    \"\"\"\n",
    "    Calculates the annualised Sharpe ratio of a market\n",
    "    neutral long/short strategy inolving the long of ’ticker’\n",
    "    with a corresponding short of the ’benchmark’.\n",
    "    \"\"\"\n",
    "    \n",
    "    start = datetime.datetime(2000, 1, 1)\n",
    "    end = datetime.datetime(2013, 1, 1)\n",
    "    \n",
    "    # Get historic data for both a symbol/ticker and a benchmark ticker\n",
    "    # The dates have been hardcoded, but you can modify them as you see fit!\n",
    "    tick = web.DataReader(ticker, 'google', start, end)\n",
    "    bench = web.DataReader(benchmark, 'google', start, end)\n",
    "    \n",
    "    # Calculate the percentage returns on each of the time series\n",
    "    tick['daily_ret'] = tick['Close'].pct_change()\n",
    "    bench['daily_ret'] = bench['Close'].pct_change()\n",
    "    \n",
    "    # Create a new DataFrame to store the strategy information\n",
    "    # The net returns are (long - short)/2, since there is twice\n",
    "    # the trading capital for this strategy\n",
    "    strat = pd.DataFrame(index=tick.index)\n",
    "    strat['net_ret'] = (tick['daily_ret'] - bench['daily_ret'])/2.0\n",
    "    \n",
    "    # Return the annualised Sharpe ratio for this strategy\n",
    "    return annualised_sharpe(strat['net_ret'])\n",
    "\n"
   ]
  },
  {
   "cell_type": "code",
   "execution_count": null,
   "metadata": {},
   "outputs": [],
   "source": [
    "equity_sharpe('GOOG')"
   ]
  },
  {
   "cell_type": "code",
   "execution_count": null,
   "metadata": {},
   "outputs": [],
   "source": [
    "market_neutral_sharpe('GOOG', 'SPY')"
   ]
  },
  {
   "attachments": {},
   "cell_type": "markdown",
   "metadata": {},
   "source": [
    "### End."
   ]
  }
 ],
 "metadata": {
  "kernelspec": {
   "display_name": "Python 3",
   "language": "python",
   "name": "python3"
  },
  "language_info": {
   "name": "python",
   "version": "3.10.5"
  },
  "orig_nbformat": 4,
  "vscode": {
   "interpreter": {
    "hash": "74af3d2f25f1e46ebd2903d59225d79e4675ec224d56c01fc30cd168c2010d53"
   }
  }
 },
 "nbformat": 4,
 "nbformat_minor": 2
}
